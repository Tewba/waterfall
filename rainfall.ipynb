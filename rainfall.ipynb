{
 "cells": [
  {
   "cell_type": "markdown",
   "id": "b06d6f4c-c3ae-4808-a922-4007a00b7aef",
   "metadata": {},
   "source": [
    "# Artifical Intelligence Project of Machine Learning \n",
    "## Name Kerima Nurhussien \n",
    "### ID Number:UGR/14178/14"
   ]
  },
  {
   "cell_type": "markdown",
   "id": "7aecdd4c-3189-441b-9fd2-7bf852f3ad9e",
   "metadata": {},
   "source": [
    " # Title: Rainfall Prediction "
   ]
  },
  {
   "cell_type": "markdown",
   "id": "943b816c-7b82-480a-8ec6-a8dd4d53fa64",
   "metadata": {},
   "source": [
    "Definition: This project aims to develop a machine learning model that can accurately predict rainfall amounts based on historical climate data."
   ]
  },
  {
   "cell_type": "markdown",
   "id": "f320348f-31ed-4385-9b2f-c57ee6e6c6c0",
   "metadata": {},
   "source": [
    "2. Problem definition Problem type: Regression Problem statement: Predicting the amount of rainfall in a given area based on historical climate data."
   ]
  },
  {
   "cell_type": "markdown",
   "id": "cc212e47-a97c-4e71-8949-67c6b6e6ad54",
   "metadata": {},
   "source": [
    "3. Data Data:\n",
    "\n",
    "Sourcing: Collecting historical climate data from government websites, weather APIs, or research institutions.\n",
    "Defining different parameters: Temperature, humidity, wind speed, atmospheric pressure, etc.\n",
    "Talking to experts: Consulting with meteorologists or climate scientists to understand the relationships between climate variables and rainfall."
   ]
  },
  {
   "cell_type": "markdown",
   "id": "d97f16f2-c407-47d2-b236-9342ab25e8c4",
   "metadata": {},
   "source": [
    "4. Evaluation Evaluation metric: Mean Absolute Error (MAE) and Root Mean Squared Error (RMSE)"
   ]
  },
  {
   "cell_type": "markdown",
   "id": "65794d79-d841-4d3f-8237-fb15dbd600a5",
   "metadata": {},
   "source": [
    "5. Features Features:\n",
    " Temperature,\n",
    "Humidity,\n",
    "Wind speed,\n",
    "Atmospheric pressure,\n",
    "Date and time,\n",
    "Location (latitude and longitude)"
   ]
  },
  {
   "cell_type": "markdown",
   "id": "168fe7c7-ec17-4867-aaf5-41b1983e8d3d",
   "metadata": {},
   "source": [
    "6. Preparing the tools Importing necessary libraries:"
   ]
  },
  {
   "cell_type": "code",
   "execution_count": 505,
   "id": "cfe0c798-7790-4eb4-8ac1-aeb15a1876a7",
   "metadata": {},
   "outputs": [],
   "source": [
    "import pandas as pd\n",
    "import numpy as np\n",
    "import matplotlib.pyplot as plt\n",
    "import seaborn as sns\n",
    "from sklearn.model_selection import train_test_split\n",
    "from sklearn.linear_model import LinearRegression\n",
    "from sklearn.metrics import mean_absolute_error, mean_squared_error"
   ]
  },
  {
   "cell_type": "code",
   "execution_count": 506,
   "id": "175d1d9e-6f27-4b81-963c-57bd0494f813",
   "metadata": {},
   "outputs": [],
   "source": [
    "# Loading the dataset\n",
    "df = pd.read_csv('falln.csv')"
   ]
  },
  {
   "cell_type": "code",
   "execution_count": 507,
   "id": "77dc2c59-ae22-435e-bd51-f03e95462ab1",
   "metadata": {},
   "outputs": [
    {
     "data": {
      "text/html": [
       "<div>\n",
       "<style scoped>\n",
       "    .dataframe tbody tr th:only-of-type {\n",
       "        vertical-align: middle;\n",
       "    }\n",
       "\n",
       "    .dataframe tbody tr th {\n",
       "        vertical-align: top;\n",
       "    }\n",
       "\n",
       "    .dataframe thead th {\n",
       "        text-align: right;\n",
       "    }\n",
       "</style>\n",
       "<table border=\"1\" class=\"dataframe\">\n",
       "  <thead>\n",
       "    <tr style=\"text-align: right;\">\n",
       "      <th></th>\n",
       "      <th>year</th>\n",
       "      <th>month</th>\n",
       "      <th>day</th>\n",
       "      <th>tempavg</th>\n",
       "      <th>DPavg</th>\n",
       "      <th>humidity avg</th>\n",
       "      <th>SLPavg</th>\n",
       "      <th>visibilityavg</th>\n",
       "      <th>windavg</th>\n",
       "      <th>Rainfall</th>\n",
       "    </tr>\n",
       "  </thead>\n",
       "  <tbody>\n",
       "    <tr>\n",
       "      <th>0</th>\n",
       "      <td>2011</td>\n",
       "      <td>2</td>\n",
       "      <td>13</td>\n",
       "      <td>21</td>\n",
       "      <td>13</td>\n",
       "      <td>60</td>\n",
       "      <td>1009</td>\n",
       "      <td>3</td>\n",
       "      <td>5</td>\n",
       "      <td>0.00</td>\n",
       "    </tr>\n",
       "    <tr>\n",
       "      <th>1</th>\n",
       "      <td>2011</td>\n",
       "      <td>2</td>\n",
       "      <td>14</td>\n",
       "      <td>21</td>\n",
       "      <td>18</td>\n",
       "      <td>75</td>\n",
       "      <td>1009</td>\n",
       "      <td>3</td>\n",
       "      <td>5</td>\n",
       "      <td>0.00</td>\n",
       "    </tr>\n",
       "    <tr>\n",
       "      <th>2</th>\n",
       "      <td>2011</td>\n",
       "      <td>2</td>\n",
       "      <td>15</td>\n",
       "      <td>22</td>\n",
       "      <td>18</td>\n",
       "      <td>75</td>\n",
       "      <td>1010</td>\n",
       "      <td>3</td>\n",
       "      <td>10</td>\n",
       "      <td>0.00</td>\n",
       "    </tr>\n",
       "    <tr>\n",
       "      <th>3</th>\n",
       "      <td>2011</td>\n",
       "      <td>2</td>\n",
       "      <td>16</td>\n",
       "      <td>23</td>\n",
       "      <td>21</td>\n",
       "      <td>86</td>\n",
       "      <td>1011</td>\n",
       "      <td>3</td>\n",
       "      <td>8</td>\n",
       "      <td>0.00</td>\n",
       "    </tr>\n",
       "    <tr>\n",
       "      <th>4</th>\n",
       "      <td>2011</td>\n",
       "      <td>2</td>\n",
       "      <td>17</td>\n",
       "      <td>23</td>\n",
       "      <td>19</td>\n",
       "      <td>75</td>\n",
       "      <td>1011</td>\n",
       "      <td>3</td>\n",
       "      <td>8</td>\n",
       "      <td>0.00</td>\n",
       "    </tr>\n",
       "    <tr>\n",
       "      <th>...</th>\n",
       "      <td>...</td>\n",
       "      <td>...</td>\n",
       "      <td>...</td>\n",
       "      <td>...</td>\n",
       "      <td>...</td>\n",
       "      <td>...</td>\n",
       "      <td>...</td>\n",
       "      <td>...</td>\n",
       "      <td>...</td>\n",
       "      <td>...</td>\n",
       "    </tr>\n",
       "    <tr>\n",
       "      <th>394</th>\n",
       "      <td>2012</td>\n",
       "      <td>8</td>\n",
       "      <td>12</td>\n",
       "      <td>26</td>\n",
       "      <td>24</td>\n",
       "      <td>92</td>\n",
       "      <td>1003</td>\n",
       "      <td>3</td>\n",
       "      <td>11</td>\n",
       "      <td>3.05</td>\n",
       "    </tr>\n",
       "    <tr>\n",
       "      <th>395</th>\n",
       "      <td>2012</td>\n",
       "      <td>8</td>\n",
       "      <td>13</td>\n",
       "      <td>27</td>\n",
       "      <td>25</td>\n",
       "      <td>91</td>\n",
       "      <td>1002</td>\n",
       "      <td>5</td>\n",
       "      <td>6</td>\n",
       "      <td>13.97</td>\n",
       "    </tr>\n",
       "    <tr>\n",
       "      <th>396</th>\n",
       "      <td>2012</td>\n",
       "      <td>8</td>\n",
       "      <td>14</td>\n",
       "      <td>28</td>\n",
       "      <td>26</td>\n",
       "      <td>89</td>\n",
       "      <td>1002</td>\n",
       "      <td>5</td>\n",
       "      <td>10</td>\n",
       "      <td>1.02</td>\n",
       "    </tr>\n",
       "    <tr>\n",
       "      <th>397</th>\n",
       "      <td>2012</td>\n",
       "      <td>8</td>\n",
       "      <td>15</td>\n",
       "      <td>28</td>\n",
       "      <td>26</td>\n",
       "      <td>86</td>\n",
       "      <td>1002</td>\n",
       "      <td>5</td>\n",
       "      <td>8</td>\n",
       "      <td>1.02</td>\n",
       "    </tr>\n",
       "    <tr>\n",
       "      <th>398</th>\n",
       "      <td>2012</td>\n",
       "      <td>8</td>\n",
       "      <td>16</td>\n",
       "      <td>29</td>\n",
       "      <td>26</td>\n",
       "      <td>82</td>\n",
       "      <td>1000</td>\n",
       "      <td>5</td>\n",
       "      <td>8</td>\n",
       "      <td>0.00</td>\n",
       "    </tr>\n",
       "  </tbody>\n",
       "</table>\n",
       "<p>399 rows × 10 columns</p>\n",
       "</div>"
      ],
      "text/plain": [
       "     year  month  day  tempavg  DPavg  humidity avg  SLPavg  visibilityavg  \\\n",
       "0    2011      2   13       21     13            60    1009              3   \n",
       "1    2011      2   14       21     18            75    1009              3   \n",
       "2    2011      2   15       22     18            75    1010              3   \n",
       "3    2011      2   16       23     21            86    1011              3   \n",
       "4    2011      2   17       23     19            75    1011              3   \n",
       "..    ...    ...  ...      ...    ...           ...     ...            ...   \n",
       "394  2012      8   12       26     24            92    1003              3   \n",
       "395  2012      8   13       27     25            91    1002              5   \n",
       "396  2012      8   14       28     26            89    1002              5   \n",
       "397  2012      8   15       28     26            86    1002              5   \n",
       "398  2012      8   16       29     26            82    1000              5   \n",
       "\n",
       "     windavg  Rainfall  \n",
       "0          5      0.00  \n",
       "1          5      0.00  \n",
       "2         10      0.00  \n",
       "3          8      0.00  \n",
       "4          8      0.00  \n",
       "..       ...       ...  \n",
       "394       11      3.05  \n",
       "395        6     13.97  \n",
       "396       10      1.02  \n",
       "397        8      1.02  \n",
       "398        8      0.00  \n",
       "\n",
       "[399 rows x 10 columns]"
      ]
     },
     "execution_count": 507,
     "metadata": {},
     "output_type": "execute_result"
    }
   ],
   "source": [
    "df"
   ]
  },
  {
   "cell_type": "code",
   "execution_count": 508,
   "id": "f6c60ed1-5dfd-4384-bc55-475cef24bbd3",
   "metadata": {},
   "outputs": [
    {
     "data": {
      "text/html": [
       "<div>\n",
       "<style scoped>\n",
       "    .dataframe tbody tr th:only-of-type {\n",
       "        vertical-align: middle;\n",
       "    }\n",
       "\n",
       "    .dataframe tbody tr th {\n",
       "        vertical-align: top;\n",
       "    }\n",
       "\n",
       "    .dataframe thead th {\n",
       "        text-align: right;\n",
       "    }\n",
       "</style>\n",
       "<table border=\"1\" class=\"dataframe\">\n",
       "  <thead>\n",
       "    <tr style=\"text-align: right;\">\n",
       "      <th></th>\n",
       "      <th>year</th>\n",
       "      <th>month</th>\n",
       "      <th>day</th>\n",
       "      <th>tempavg</th>\n",
       "      <th>DPavg</th>\n",
       "      <th>humidity avg</th>\n",
       "      <th>SLPavg</th>\n",
       "      <th>visibilityavg</th>\n",
       "      <th>windavg</th>\n",
       "      <th>Rainfall</th>\n",
       "    </tr>\n",
       "  </thead>\n",
       "  <tbody>\n",
       "    <tr>\n",
       "      <th>394</th>\n",
       "      <td>2012</td>\n",
       "      <td>8</td>\n",
       "      <td>12</td>\n",
       "      <td>26</td>\n",
       "      <td>24</td>\n",
       "      <td>92</td>\n",
       "      <td>1003</td>\n",
       "      <td>3</td>\n",
       "      <td>11</td>\n",
       "      <td>3.05</td>\n",
       "    </tr>\n",
       "    <tr>\n",
       "      <th>395</th>\n",
       "      <td>2012</td>\n",
       "      <td>8</td>\n",
       "      <td>13</td>\n",
       "      <td>27</td>\n",
       "      <td>25</td>\n",
       "      <td>91</td>\n",
       "      <td>1002</td>\n",
       "      <td>5</td>\n",
       "      <td>6</td>\n",
       "      <td>13.97</td>\n",
       "    </tr>\n",
       "    <tr>\n",
       "      <th>396</th>\n",
       "      <td>2012</td>\n",
       "      <td>8</td>\n",
       "      <td>14</td>\n",
       "      <td>28</td>\n",
       "      <td>26</td>\n",
       "      <td>89</td>\n",
       "      <td>1002</td>\n",
       "      <td>5</td>\n",
       "      <td>10</td>\n",
       "      <td>1.02</td>\n",
       "    </tr>\n",
       "    <tr>\n",
       "      <th>397</th>\n",
       "      <td>2012</td>\n",
       "      <td>8</td>\n",
       "      <td>15</td>\n",
       "      <td>28</td>\n",
       "      <td>26</td>\n",
       "      <td>86</td>\n",
       "      <td>1002</td>\n",
       "      <td>5</td>\n",
       "      <td>8</td>\n",
       "      <td>1.02</td>\n",
       "    </tr>\n",
       "    <tr>\n",
       "      <th>398</th>\n",
       "      <td>2012</td>\n",
       "      <td>8</td>\n",
       "      <td>16</td>\n",
       "      <td>29</td>\n",
       "      <td>26</td>\n",
       "      <td>82</td>\n",
       "      <td>1000</td>\n",
       "      <td>5</td>\n",
       "      <td>8</td>\n",
       "      <td>0.00</td>\n",
       "    </tr>\n",
       "  </tbody>\n",
       "</table>\n",
       "</div>"
      ],
      "text/plain": [
       "     year  month  day  tempavg  DPavg  humidity avg  SLPavg  visibilityavg  \\\n",
       "394  2012      8   12       26     24            92    1003              3   \n",
       "395  2012      8   13       27     25            91    1002              5   \n",
       "396  2012      8   14       28     26            89    1002              5   \n",
       "397  2012      8   15       28     26            86    1002              5   \n",
       "398  2012      8   16       29     26            82    1000              5   \n",
       "\n",
       "     windavg  Rainfall  \n",
       "394       11      3.05  \n",
       "395        6     13.97  \n",
       "396       10      1.02  \n",
       "397        8      1.02  \n",
       "398        8      0.00  "
      ]
     },
     "execution_count": 508,
     "metadata": {},
     "output_type": "execute_result"
    }
   ],
   "source": [
    "df.tail()"
   ]
  },
  {
   "cell_type": "markdown",
   "id": "57a0c08e-4078-4514-aac2-458f7b562cf9",
   "metadata": {},
   "source": [
    "# Data exploration"
   ]
  },
  {
   "cell_type": "markdown",
   "id": "fb8447ff-929a-4aab-9f93-7709b69171ba",
   "metadata": {},
   "source": [
    "##### What question(s) are you trying to solve? Predicting rainfall amount based on climate variables. \n",
    "What kind of data do you have and how do you treat different types? Numerical and datetime data \r\n",
    "What is missing from the data and how do you deal with it? Handling missing values using mean or median imputatio .\r\n",
    "How can you compare different columns to each other, compare them to the target variable, and correlation between independent variables? Using correlation matrices and scatter ps.s.\r\n",
    "How can you add, change, or remove features to get more out of your data? Feature engineering techniques such as polynomial transformations or feature select\n",
    "ion."
   ]
  },
  {
   "cell_type": "code",
   "execution_count": 509,
   "id": "ebcd20ed-25a9-4034-8a6c-45e703f44361",
   "metadata": {},
   "outputs": [
    {
     "data": {
      "text/html": [
       "<div>\n",
       "<style scoped>\n",
       "    .dataframe tbody tr th:only-of-type {\n",
       "        vertical-align: middle;\n",
       "    }\n",
       "\n",
       "    .dataframe tbody tr th {\n",
       "        vertical-align: top;\n",
       "    }\n",
       "\n",
       "    .dataframe thead th {\n",
       "        text-align: right;\n",
       "    }\n",
       "</style>\n",
       "<table border=\"1\" class=\"dataframe\">\n",
       "  <thead>\n",
       "    <tr style=\"text-align: right;\">\n",
       "      <th></th>\n",
       "      <th>year</th>\n",
       "      <th>month</th>\n",
       "      <th>day</th>\n",
       "      <th>tempavg</th>\n",
       "      <th>DPavg</th>\n",
       "      <th>humidity avg</th>\n",
       "      <th>SLPavg</th>\n",
       "      <th>visibilityavg</th>\n",
       "      <th>windavg</th>\n",
       "      <th>Rainfall</th>\n",
       "    </tr>\n",
       "  </thead>\n",
       "  <tbody>\n",
       "    <tr>\n",
       "      <th>0</th>\n",
       "      <td>2011</td>\n",
       "      <td>2</td>\n",
       "      <td>13</td>\n",
       "      <td>21</td>\n",
       "      <td>13</td>\n",
       "      <td>60</td>\n",
       "      <td>1009</td>\n",
       "      <td>3</td>\n",
       "      <td>5</td>\n",
       "      <td>0.0</td>\n",
       "    </tr>\n",
       "    <tr>\n",
       "      <th>1</th>\n",
       "      <td>2011</td>\n",
       "      <td>2</td>\n",
       "      <td>14</td>\n",
       "      <td>21</td>\n",
       "      <td>18</td>\n",
       "      <td>75</td>\n",
       "      <td>1009</td>\n",
       "      <td>3</td>\n",
       "      <td>5</td>\n",
       "      <td>0.0</td>\n",
       "    </tr>\n",
       "    <tr>\n",
       "      <th>2</th>\n",
       "      <td>2011</td>\n",
       "      <td>2</td>\n",
       "      <td>15</td>\n",
       "      <td>22</td>\n",
       "      <td>18</td>\n",
       "      <td>75</td>\n",
       "      <td>1010</td>\n",
       "      <td>3</td>\n",
       "      <td>10</td>\n",
       "      <td>0.0</td>\n",
       "    </tr>\n",
       "    <tr>\n",
       "      <th>3</th>\n",
       "      <td>2011</td>\n",
       "      <td>2</td>\n",
       "      <td>16</td>\n",
       "      <td>23</td>\n",
       "      <td>21</td>\n",
       "      <td>86</td>\n",
       "      <td>1011</td>\n",
       "      <td>3</td>\n",
       "      <td>8</td>\n",
       "      <td>0.0</td>\n",
       "    </tr>\n",
       "    <tr>\n",
       "      <th>4</th>\n",
       "      <td>2011</td>\n",
       "      <td>2</td>\n",
       "      <td>17</td>\n",
       "      <td>23</td>\n",
       "      <td>19</td>\n",
       "      <td>75</td>\n",
       "      <td>1011</td>\n",
       "      <td>3</td>\n",
       "      <td>8</td>\n",
       "      <td>0.0</td>\n",
       "    </tr>\n",
       "  </tbody>\n",
       "</table>\n",
       "</div>"
      ],
      "text/plain": [
       "   year  month  day  tempavg  DPavg  humidity avg  SLPavg  visibilityavg  \\\n",
       "0  2011      2   13       21     13            60    1009              3   \n",
       "1  2011      2   14       21     18            75    1009              3   \n",
       "2  2011      2   15       22     18            75    1010              3   \n",
       "3  2011      2   16       23     21            86    1011              3   \n",
       "4  2011      2   17       23     19            75    1011              3   \n",
       "\n",
       "   windavg  Rainfall  \n",
       "0        5       0.0  \n",
       "1        5       0.0  \n",
       "2       10       0.0  \n",
       "3        8       0.0  \n",
       "4        8       0.0  "
      ]
     },
     "execution_count": 509,
     "metadata": {},
     "output_type": "execute_result"
    }
   ],
   "source": [
    "df.head()"
   ]
  },
  {
   "cell_type": "code",
   "execution_count": 510,
   "id": "1887650f-7d51-442a-8b2e-81c86478dee3",
   "metadata": {},
   "outputs": [
    {
     "name": "stdout",
     "output_type": "stream",
     "text": [
      "<class 'pandas.core.frame.DataFrame'>\n",
      "RangeIndex: 399 entries, 0 to 398\n",
      "Data columns (total 10 columns):\n",
      " #   Column         Non-Null Count  Dtype  \n",
      "---  ------         --------------  -----  \n",
      " 0   year           399 non-null    int64  \n",
      " 1   month          399 non-null    int64  \n",
      " 2   day            399 non-null    int64  \n",
      " 3   tempavg        399 non-null    int64  \n",
      " 4   DPavg          399 non-null    int64  \n",
      " 5   humidity avg   399 non-null    int64  \n",
      " 6   SLPavg         399 non-null    int64  \n",
      " 7   visibilityavg  399 non-null    int64  \n",
      " 8   windavg        399 non-null    int64  \n",
      " 9   Rainfall       399 non-null    float64\n",
      "dtypes: float64(1), int64(9)\n",
      "memory usage: 31.3 KB\n"
     ]
    }
   ],
   "source": [
    "df.info()"
   ]
  },
  {
   "cell_type": "code",
   "execution_count": 511,
   "id": "7797a63c-cc39-4d4d-bb10-52ab096b07f9",
   "metadata": {},
   "outputs": [
    {
     "data": {
      "text/html": [
       "<div>\n",
       "<style scoped>\n",
       "    .dataframe tbody tr th:only-of-type {\n",
       "        vertical-align: middle;\n",
       "    }\n",
       "\n",
       "    .dataframe tbody tr th {\n",
       "        vertical-align: top;\n",
       "    }\n",
       "\n",
       "    .dataframe thead th {\n",
       "        text-align: right;\n",
       "    }\n",
       "</style>\n",
       "<table border=\"1\" class=\"dataframe\">\n",
       "  <thead>\n",
       "    <tr style=\"text-align: right;\">\n",
       "      <th></th>\n",
       "      <th>year</th>\n",
       "      <th>month</th>\n",
       "      <th>day</th>\n",
       "      <th>tempavg</th>\n",
       "      <th>DPavg</th>\n",
       "      <th>humidity avg</th>\n",
       "      <th>SLPavg</th>\n",
       "      <th>visibilityavg</th>\n",
       "      <th>windavg</th>\n",
       "      <th>Rainfall</th>\n",
       "    </tr>\n",
       "  </thead>\n",
       "  <tbody>\n",
       "    <tr>\n",
       "      <th>count</th>\n",
       "      <td>399.000000</td>\n",
       "      <td>399.000000</td>\n",
       "      <td>399.000000</td>\n",
       "      <td>399.000000</td>\n",
       "      <td>399.000000</td>\n",
       "      <td>399.000000</td>\n",
       "      <td>399.000000</td>\n",
       "      <td>399.000000</td>\n",
       "      <td>399.000000</td>\n",
       "      <td>399.000000</td>\n",
       "    </tr>\n",
       "    <tr>\n",
       "      <th>mean</th>\n",
       "      <td>2011.571429</td>\n",
       "      <td>4.791980</td>\n",
       "      <td>15.566416</td>\n",
       "      <td>26.177945</td>\n",
       "      <td>21.538847</td>\n",
       "      <td>75.225564</td>\n",
       "      <td>1005.927318</td>\n",
       "      <td>4.408521</td>\n",
       "      <td>8.706767</td>\n",
       "      <td>1.999599</td>\n",
       "    </tr>\n",
       "    <tr>\n",
       "      <th>std</th>\n",
       "      <td>0.495493</td>\n",
       "      <td>2.567547</td>\n",
       "      <td>8.676774</td>\n",
       "      <td>3.156061</td>\n",
       "      <td>4.897735</td>\n",
       "      <td>12.012734</td>\n",
       "      <td>5.001229</td>\n",
       "      <td>1.089478</td>\n",
       "      <td>4.375782</td>\n",
       "      <td>8.532682</td>\n",
       "    </tr>\n",
       "    <tr>\n",
       "      <th>min</th>\n",
       "      <td>2011.000000</td>\n",
       "      <td>1.000000</td>\n",
       "      <td>1.000000</td>\n",
       "      <td>13.000000</td>\n",
       "      <td>7.000000</td>\n",
       "      <td>37.000000</td>\n",
       "      <td>994.000000</td>\n",
       "      <td>1.000000</td>\n",
       "      <td>2.000000</td>\n",
       "      <td>0.000000</td>\n",
       "    </tr>\n",
       "    <tr>\n",
       "      <th>25%</th>\n",
       "      <td>2011.000000</td>\n",
       "      <td>3.000000</td>\n",
       "      <td>8.000000</td>\n",
       "      <td>24.000000</td>\n",
       "      <td>18.000000</td>\n",
       "      <td>71.500000</td>\n",
       "      <td>1002.000000</td>\n",
       "      <td>4.000000</td>\n",
       "      <td>5.000000</td>\n",
       "      <td>0.000000</td>\n",
       "    </tr>\n",
       "    <tr>\n",
       "      <th>50%</th>\n",
       "      <td>2012.000000</td>\n",
       "      <td>5.000000</td>\n",
       "      <td>15.000000</td>\n",
       "      <td>27.000000</td>\n",
       "      <td>24.000000</td>\n",
       "      <td>78.000000</td>\n",
       "      <td>1006.000000</td>\n",
       "      <td>5.000000</td>\n",
       "      <td>8.000000</td>\n",
       "      <td>0.000000</td>\n",
       "    </tr>\n",
       "    <tr>\n",
       "      <th>75%</th>\n",
       "      <td>2012.000000</td>\n",
       "      <td>6.000000</td>\n",
       "      <td>23.000000</td>\n",
       "      <td>28.000000</td>\n",
       "      <td>25.000000</td>\n",
       "      <td>83.000000</td>\n",
       "      <td>1010.000000</td>\n",
       "      <td>5.000000</td>\n",
       "      <td>11.000000</td>\n",
       "      <td>0.000000</td>\n",
       "    </tr>\n",
       "    <tr>\n",
       "      <th>max</th>\n",
       "      <td>2012.000000</td>\n",
       "      <td>12.000000</td>\n",
       "      <td>31.000000</td>\n",
       "      <td>31.000000</td>\n",
       "      <td>28.000000</td>\n",
       "      <td>98.000000</td>\n",
       "      <td>1016.000000</td>\n",
       "      <td>6.000000</td>\n",
       "      <td>24.000000</td>\n",
       "      <td>80.010000</td>\n",
       "    </tr>\n",
       "  </tbody>\n",
       "</table>\n",
       "</div>"
      ],
      "text/plain": [
       "              year       month         day     tempavg       DPavg  \\\n",
       "count   399.000000  399.000000  399.000000  399.000000  399.000000   \n",
       "mean   2011.571429    4.791980   15.566416   26.177945   21.538847   \n",
       "std       0.495493    2.567547    8.676774    3.156061    4.897735   \n",
       "min    2011.000000    1.000000    1.000000   13.000000    7.000000   \n",
       "25%    2011.000000    3.000000    8.000000   24.000000   18.000000   \n",
       "50%    2012.000000    5.000000   15.000000   27.000000   24.000000   \n",
       "75%    2012.000000    6.000000   23.000000   28.000000   25.000000   \n",
       "max    2012.000000   12.000000   31.000000   31.000000   28.000000   \n",
       "\n",
       "       humidity avg       SLPavg  visibilityavg     windavg    Rainfall  \n",
       "count    399.000000   399.000000     399.000000  399.000000  399.000000  \n",
       "mean      75.225564  1005.927318       4.408521    8.706767    1.999599  \n",
       "std       12.012734     5.001229       1.089478    4.375782    8.532682  \n",
       "min       37.000000   994.000000       1.000000    2.000000    0.000000  \n",
       "25%       71.500000  1002.000000       4.000000    5.000000    0.000000  \n",
       "50%       78.000000  1006.000000       5.000000    8.000000    0.000000  \n",
       "75%       83.000000  1010.000000       5.000000   11.000000    0.000000  \n",
       "max       98.000000  1016.000000       6.000000   24.000000   80.010000  "
      ]
     },
     "execution_count": 511,
     "metadata": {},
     "output_type": "execute_result"
    }
   ],
   "source": [
    "df.describe()"
   ]
  },
  {
   "cell_type": "code",
   "execution_count": 512,
   "id": "301765af-80d8-4f4d-b3d2-2768a7cb9709",
   "metadata": {},
   "outputs": [
    {
     "data": {
      "image/png": "[encoded data removed]",
      "text/plain": [
       "<Figure size 640x480 with 1 Axes>"
      ]
     },
     "metadata": {},
     "output_type": "display_data"
    }
   ],
   "source": [
    "import matplotlib.pyplot as plt\n",
    "\n",
    "x = [1, 2, 3, 4, 5]\n",
    "y = [1, 4, 9, 16, 25]\n",
    "\n",
    "plt.plot(x, y)\n",
    "plt.xlabel('X Axis')\n",
    "plt.ylabel('Y Axis')\n",
    "plt.title('Line Chart Example')\n",
    "plt.show()\n"
   ]
  },
  {
   "cell_type": "code",
   "execution_count": 513,
   "id": "bbb25b19-d77a-4ff3-ab82-b3946a31369a",
   "metadata": {},
   "outputs": [
    {
     "data": {
      "image/png": "[encoded data removed]",
      "text/plain": [
       "<Figure size 640x480 with 1 Axes>"
      ]
     },
     "metadata": {},
     "output_type": "display_data"
    }
   ],
   "source": [
    "labels = ['A', 'B', 'C', 'D']\n",
    "sizes = [15, 30, 45, 10]\n",
    "colors = ['gold', 'yellowgreen', 'lightcoral', 'lightskyblue']\n",
    "explode = (0.1, 0, 0, 0)  # explode 1st slice\n",
    "\n",
    "plt.pie(sizes, explode=explode, labels=labels, colors=colors,\n",
    "        autopct='%1.1f%%', shadow=True, startangle=140)\n",
    "\n",
    "plt.axis('equal')\n",
    "plt.show()"
   ]
  },
  {
   "cell_type": "code",
   "execution_count": 514,
   "id": "a2bccee9-5cd2-4b94-9c91-9a83f403be44",
   "metadata": {},
   "outputs": [
    {
     "data": {
      "image/png": "[encoded data removed]",
      "text/plain": [
       "<Figure size 640x480 with 1 Axes>"
      ]
     },
     "metadata": {},
     "output_type": "display_data"
    }
   ],
   "source": [
    "import matplotlib.pyplot as plt\n",
    "import numpy as np\n",
    "\n",
    "mu, sigma = 100, 15\n",
    "data = np.random.normal(mu, sigma, 1000)\n",
    "\n",
    "plt.hist(data, bins=30, density=True, alpha=0.6, color='g')\n",
    "\n",
    "plt.xlabel('Value')\n",
    "plt.ylabel('Frequency')\n",
    "plt.title('Histogram Example')\n",
    "plt.show()"
   ]
  },
  {
   "cell_type": "markdown",
   "id": "a99d3fd3-90eb-42e4-a893-84b759806f11",
   "metadata": {},
   "source": [
    "## Modelling"
   ]
  },
  {
   "cell_type": "markdown",
   "id": "bf265714-f8e8-4abf-bf66-5b79db9834bb",
   "metadata": {},
   "source": [
    " #### Features and labels: Climate variables as features, rainfall amount as label.\n",
    "#### Training and test split: Splitting the dataset into training (80%) and testing (20%) sets.\n",
    "#### Model choices: Linear Regression, Decision Trees, Random Forest.\n",
    "#### Model comparison: Comparing the performance of different models using MAE and RMSE.\n",
    "#### Hyperparameter tuning and cross-validation: Tuning hyperparameters using GridSearchCV and cross-validation."
   ]
  },
  {
   "cell_type": "code",
   "execution_count": 515,
   "id": "61a4831e-2d88-4d1e-b00c-267039e0c275",
   "metadata": {},
   "outputs": [
    {
     "name": "stdout",
     "output_type": "stream",
     "text": [
      "0    0.0\n",
      "1    0.0\n",
      "2    0.0\n",
      "3    0.0\n",
      "4    0.0\n",
      "Name: Rainfall, dtype: float64\n"
     ]
    },
    {
     "data": {
      "text/html": [
       "<div>\n",
       "<style scoped>\n",
       "    .dataframe tbody tr th:only-of-type {\n",
       "        vertical-align: middle;\n",
       "    }\n",
       "\n",
       "    .dataframe tbody tr th {\n",
       "        vertical-align: top;\n",
       "    }\n",
       "\n",
       "    .dataframe thead th {\n",
       "        text-align: right;\n",
       "    }\n",
       "</style>\n",
       "<table border=\"1\" class=\"dataframe\">\n",
       "  <thead>\n",
       "    <tr style=\"text-align: right;\">\n",
       "      <th></th>\n",
       "      <th>year</th>\n",
       "      <th>month</th>\n",
       "      <th>day</th>\n",
       "      <th>tempavg</th>\n",
       "      <th>DPavg</th>\n",
       "      <th>humidity avg</th>\n",
       "      <th>SLPavg</th>\n",
       "      <th>visibilityavg</th>\n",
       "      <th>windavg</th>\n",
       "    </tr>\n",
       "  </thead>\n",
       "  <tbody>\n",
       "    <tr>\n",
       "      <th>0</th>\n",
       "      <td>2011</td>\n",
       "      <td>2</td>\n",
       "      <td>13</td>\n",
       "      <td>21</td>\n",
       "      <td>13</td>\n",
       "      <td>60</td>\n",
       "      <td>1009</td>\n",
       "      <td>3</td>\n",
       "      <td>5</td>\n",
       "    </tr>\n",
       "    <tr>\n",
       "      <th>1</th>\n",
       "      <td>2011</td>\n",
       "      <td>2</td>\n",
       "      <td>14</td>\n",
       "      <td>21</td>\n",
       "      <td>18</td>\n",
       "      <td>75</td>\n",
       "      <td>1009</td>\n",
       "      <td>3</td>\n",
       "      <td>5</td>\n",
       "    </tr>\n",
       "    <tr>\n",
       "      <th>2</th>\n",
       "      <td>2011</td>\n",
       "      <td>2</td>\n",
       "      <td>15</td>\n",
       "      <td>22</td>\n",
       "      <td>18</td>\n",
       "      <td>75</td>\n",
       "      <td>1010</td>\n",
       "      <td>3</td>\n",
       "      <td>10</td>\n",
       "    </tr>\n",
       "    <tr>\n",
       "      <th>3</th>\n",
       "      <td>2011</td>\n",
       "      <td>2</td>\n",
       "      <td>16</td>\n",
       "      <td>23</td>\n",
       "      <td>21</td>\n",
       "      <td>86</td>\n",
       "      <td>1011</td>\n",
       "      <td>3</td>\n",
       "      <td>8</td>\n",
       "    </tr>\n",
       "    <tr>\n",
       "      <th>4</th>\n",
       "      <td>2011</td>\n",
       "      <td>2</td>\n",
       "      <td>17</td>\n",
       "      <td>23</td>\n",
       "      <td>19</td>\n",
       "      <td>75</td>\n",
       "      <td>1011</td>\n",
       "      <td>3</td>\n",
       "      <td>8</td>\n",
       "    </tr>\n",
       "  </tbody>\n",
       "</table>\n",
       "</div>"
      ],
      "text/plain": [
       "   year  month  day  tempavg  DPavg  humidity avg  SLPavg  visibilityavg  \\\n",
       "0  2011      2   13       21     13            60    1009              3   \n",
       "1  2011      2   14       21     18            75    1009              3   \n",
       "2  2011      2   15       22     18            75    1010              3   \n",
       "3  2011      2   16       23     21            86    1011              3   \n",
       "4  2011      2   17       23     19            75    1011              3   \n",
       "\n",
       "   windavg  \n",
       "0        5  \n",
       "1        5  \n",
       "2       10  \n",
       "3        8  \n",
       "4        8  "
      ]
     },
     "execution_count": 515,
     "metadata": {},
     "output_type": "execute_result"
    }
   ],
   "source": [
    "x = df.drop(\"Rainfall\", axis = 1)\n",
    "y =df[\"Rainfall\"]\n",
    "print(y.head())\n",
    "x.head()"
   ]
  },
  {
   "cell_type": "code",
   "execution_count": 516,
   "id": "02310dd6-b298-4b8a-8298-d5d5650c906b",
   "metadata": {},
   "outputs": [],
   "source": [
    "from sklearn.model_selection import train_test_split"
   ]
  },
  {
   "cell_type": "code",
   "execution_count": 517,
   "id": "a43657bb-99c0-4d0b-a2ab-a1c485324cce",
   "metadata": {},
   "outputs": [],
   "source": [
    "#by default we give 80% for train and 20% for testing\n",
    "x_train, x_test, y_train, y_test = train_test_split(x, y, test_size = 0.25)"
   ]
  },
  {
   "cell_type": "code",
   "execution_count": 518,
   "id": "def3ccc4-3bf1-45ac-9348-5acd20295e16",
   "metadata": {},
   "outputs": [
    {
     "data": {
      "text/plain": [
       "((299, 9), (100, 9), (299,), (100,))"
      ]
     },
     "execution_count": 518,
     "metadata": {},
     "output_type": "execute_result"
    }
   ],
   "source": [
    "x_train.shape, x_test.shape, y_train.shape, y_test.shape"
   ]
  },
  {
   "cell_type": "code",
   "execution_count": 519,
   "id": "4758b30d-b678-4f27-a7f0-135b14dc267e",
   "metadata": {},
   "outputs": [],
   "source": [
    "from sklearn.ensemble import RandomForestClassifier"
   ]
  },
  {
   "cell_type": "code",
   "execution_count": 520,
   "id": "59c6350b-87fe-4d11-ab70-2281b9ef103d",
   "metadata": {},
   "outputs": [],
   "source": [
    "np.random.seed(42)"
   ]
  },
  {
   "cell_type": "code",
   "execution_count": 521,
   "id": "ca306f38-9633-4aed-80ee-dd4fa880f5b5",
   "metadata": {},
   "outputs": [],
   "source": [
    "clf = RandomForestClassifier()"
   ]
  },
  {
   "cell_type": "code",
   "execution_count": 522,
   "id": "9db13605-a0a7-4f14-a4a5-c328e717da25",
   "metadata": {},
   "outputs": [
    {
     "data": {
      "text/html": [
       "<style>#sk-container-id-33 {color: black;background-color: white;}#sk-container-id-33 pre{padding: 0;}#sk-container-id-33 div.sk-toggleable {background-color: white;}#sk-container-id-33 label.sk-toggleable__label {cursor: pointer;display: block;width: 100%;margin-bottom: 0;padding: 0.3em;box-sizing: border-box;text-align: center;}#sk-container-id-33 label.sk-toggleable__label-arrow:before {content: \"▸\";float: left;margin-right: 0.25em;color: #696969;}#sk-container-id-33 label.sk-toggleable__label-arrow:hover:before {color: black;}#sk-container-id-33 div.sk-estimator:hover label.sk-toggleable__label-arrow:before {color: black;}#sk-container-id-33 div.sk-toggleable__content {max-height: 0;max-width: 0;overflow: hidden;text-align: left;background-color: #f0f8ff;}#sk-container-id-33 div.sk-toggleable__content pre {margin: 0.2em;color: black;border-radius: 0.25em;background-color: #f0f8ff;}#sk-container-id-33 input.sk-toggleable__control:checked~div.sk-toggleable__content {max-height: 200px;max-width: 100%;overflow: auto;}#sk-container-id-33 input.sk-toggleable__control:checked~label.sk-toggleable__label-arrow:before {content: \"▾\";}#sk-container-id-33 div.sk-estimator input.sk-toggleable__control:checked~label.sk-toggleable__label {background-color: #d4ebff;}#sk-container-id-33 div.sk-label input.sk-toggleable__control:checked~label.sk-toggleable__label {background-color: #d4ebff;}#sk-container-id-33 input.sk-hidden--visually {border: 0;clip: rect(1px 1px 1px 1px);clip: rect(1px, 1px, 1px, 1px);height: 1px;margin: -1px;overflow: hidden;padding: 0;position: absolute;width: 1px;}#sk-container-id-33 div.sk-estimator {font-family: monospace;background-color: #f0f8ff;border: 1px dotted black;border-radius: 0.25em;box-sizing: border-box;margin-bottom: 0.5em;}#sk-container-id-33 div.sk-estimator:hover {background-color: #d4ebff;}#sk-container-id-33 div.sk-parallel-item::after {content: \"\";width: 100%;border-bottom: 1px solid gray;flex-grow: 1;}#sk-container-id-33 div.sk-label:hover label.sk-toggleable__label {background-color: #d4ebff;}#sk-container-id-33 div.sk-serial::before {content: \"\";position: absolute;border-left: 1px solid gray;box-sizing: border-box;top: 0;bottom: 0;left: 50%;z-index: 0;}#sk-container-id-33 div.sk-serial {display: flex;flex-direction: column;align-items: center;background-color: white;padding-right: 0.2em;padding-left: 0.2em;position: relative;}#sk-container-id-33 div.sk-item {position: relative;z-index: 1;}#sk-container-id-33 div.sk-parallel {display: flex;align-items: stretch;justify-content: center;background-color: white;position: relative;}#sk-container-id-33 div.sk-item::before, #sk-container-id-33 div.sk-parallel-item::before {content: \"\";position: absolute;border-left: 1px solid gray;box-sizing: border-box;top: 0;bottom: 0;left: 50%;z-index: -1;}#sk-container-id-33 div.sk-parallel-item {display: flex;flex-direction: column;z-index: 1;position: relative;background-color: white;}#sk-container-id-33 div.sk-parallel-item:first-child::after {align-self: flex-end;width: 50%;}#sk-container-id-33 div.sk-parallel-item:last-child::after {align-self: flex-start;width: 50%;}#sk-container-id-33 div.sk-parallel-item:only-child::after {width: 0;}#sk-container-id-33 div.sk-dashed-wrapped {border: 1px dashed gray;margin: 0 0.4em 0.5em 0.4em;box-sizing: border-box;padding-bottom: 0.4em;background-color: white;}#sk-container-id-33 div.sk-label label {font-family: monospace;font-weight: bold;display: inline-block;line-height: 1.2em;}#sk-container-id-33 div.sk-label-container {text-align: center;}#sk-container-id-33 div.sk-container {/* jupyter's `normalize.less` sets `[hidden] { display: none; }` but bootstrap.min.css set `[hidden] { display: none !important; }` so we also need the `!important` here to be able to override the default hidden behavior on the sphinx rendered scikit-learn.org. See: https://github.com/scikit-learn/scikit-learn/issues/21755 */display: inline-block !important;position: relative;}#sk-container-id-33 div.sk-text-repr-fallback {display: none;}</style><div id=\"sk-container-id-33\" class=\"sk-top-container\"><div class=\"sk-text-repr-fallback\"><pre>RandomForestRegressor(random_state=70)</pre><b>In a Jupyter environment, please rerun this cell to show the HTML representation or trust the notebook. <br />On GitHub, the HTML representation is unable to render, please try loading this page with nbviewer.org.</b></div><div class=\"sk-container\" hidden><div class=\"sk-item\"><div class=\"sk-estimator sk-toggleable\"><input class=\"sk-toggleable__control sk-hidden--visually\" id=\"sk-estimator-id-33\" type=\"checkbox\" checked><label for=\"sk-estimator-id-33\" class=\"sk-toggleable__label sk-toggleable__label-arrow\">RandomForestRegressor</label><div class=\"sk-toggleable__content\"><pre>RandomForestRegressor(random_state=70)</pre></div></div></div></div></div>"
      ],
      "text/plain": [
       "RandomForestRegressor(random_state=70)"
      ]
     },
     "execution_count": 522,
     "metadata": {},
     "output_type": "execute_result"
    }
   ],
   "source": [
    "from sklearn.ensemble import RandomForestRegressor\n",
    "\n",
    "clf = RandomForestRegressor(n_estimators=100, random_state=70)\n",
    "clf.fit(x_train, y_train)"
   ]
  },
  {
   "cell_type": "code",
   "execution_count": 523,
   "id": "59058916-dec1-4a51-8444-1051d2a540b8",
   "metadata": {},
   "outputs": [
    {
     "name": "stdout",
     "output_type": "stream",
     "text": [
      "<class 'pandas.core.frame.DataFrame'>\n",
      "RangeIndex: 399 entries, 0 to 398\n",
      "Data columns (total 10 columns):\n",
      " #   Column         Non-Null Count  Dtype  \n",
      "---  ------         --------------  -----  \n",
      " 0   year           399 non-null    int64  \n",
      " 1   month          399 non-null    int64  \n",
      " 2   day            399 non-null    int64  \n",
      " 3   tempavg        399 non-null    int64  \n",
      " 4   DPavg          399 non-null    int64  \n",
      " 5   humidity avg   399 non-null    int64  \n",
      " 6   SLPavg         399 non-null    int64  \n",
      " 7   visibilityavg  399 non-null    int64  \n",
      " 8   windavg        399 non-null    int64  \n",
      " 9   Rainfall       399 non-null    float64\n",
      "dtypes: float64(1), int64(9)\n",
      "memory usage: 31.3 KB\n"
     ]
    }
   ],
   "source": [
    "df.info()"
   ]
  },
  {
   "cell_type": "code",
   "execution_count": 524,
   "id": "706837f9-3ab7-4380-95fd-170436a4b35e",
   "metadata": {},
   "outputs": [
    {
     "data": {
      "text/html": [
       "<style>#sk-container-id-34 {color: black;background-color: white;}#sk-container-id-34 pre{padding: 0;}#sk-container-id-34 div.sk-toggleable {background-color: white;}#sk-container-id-34 label.sk-toggleable__label {cursor: pointer;display: block;width: 100%;margin-bottom: 0;padding: 0.3em;box-sizing: border-box;text-align: center;}#sk-container-id-34 label.sk-toggleable__label-arrow:before {content: \"▸\";float: left;margin-right: 0.25em;color: #696969;}#sk-container-id-34 label.sk-toggleable__label-arrow:hover:before {color: black;}#sk-container-id-34 div.sk-estimator:hover label.sk-toggleable__label-arrow:before {color: black;}#sk-container-id-34 div.sk-toggleable__content {max-height: 0;max-width: 0;overflow: hidden;text-align: left;background-color: #f0f8ff;}#sk-container-id-34 div.sk-toggleable__content pre {margin: 0.2em;color: black;border-radius: 0.25em;background-color: #f0f8ff;}#sk-container-id-34 input.sk-toggleable__control:checked~div.sk-toggleable__content {max-height: 200px;max-width: 100%;overflow: auto;}#sk-container-id-34 input.sk-toggleable__control:checked~label.sk-toggleable__label-arrow:before {content: \"▾\";}#sk-container-id-34 div.sk-estimator input.sk-toggleable__control:checked~label.sk-toggleable__label {background-color: #d4ebff;}#sk-container-id-34 div.sk-label input.sk-toggleable__control:checked~label.sk-toggleable__label {background-color: #d4ebff;}#sk-container-id-34 input.sk-hidden--visually {border: 0;clip: rect(1px 1px 1px 1px);clip: rect(1px, 1px, 1px, 1px);height: 1px;margin: -1px;overflow: hidden;padding: 0;position: absolute;width: 1px;}#sk-container-id-34 div.sk-estimator {font-family: monospace;background-color: #f0f8ff;border: 1px dotted black;border-radius: 0.25em;box-sizing: border-box;margin-bottom: 0.5em;}#sk-container-id-34 div.sk-estimator:hover {background-color: #d4ebff;}#sk-container-id-34 div.sk-parallel-item::after {content: \"\";width: 100%;border-bottom: 1px solid gray;flex-grow: 1;}#sk-container-id-34 div.sk-label:hover label.sk-toggleable__label {background-color: #d4ebff;}#sk-container-id-34 div.sk-serial::before {content: \"\";position: absolute;border-left: 1px solid gray;box-sizing: border-box;top: 0;bottom: 0;left: 50%;z-index: 0;}#sk-container-id-34 div.sk-serial {display: flex;flex-direction: column;align-items: center;background-color: white;padding-right: 0.2em;padding-left: 0.2em;position: relative;}#sk-container-id-34 div.sk-item {position: relative;z-index: 1;}#sk-container-id-34 div.sk-parallel {display: flex;align-items: stretch;justify-content: center;background-color: white;position: relative;}#sk-container-id-34 div.sk-item::before, #sk-container-id-34 div.sk-parallel-item::before {content: \"\";position: absolute;border-left: 1px solid gray;box-sizing: border-box;top: 0;bottom: 0;left: 50%;z-index: -1;}#sk-container-id-34 div.sk-parallel-item {display: flex;flex-direction: column;z-index: 1;position: relative;background-color: white;}#sk-container-id-34 div.sk-parallel-item:first-child::after {align-self: flex-end;width: 50%;}#sk-container-id-34 div.sk-parallel-item:last-child::after {align-self: flex-start;width: 50%;}#sk-container-id-34 div.sk-parallel-item:only-child::after {width: 0;}#sk-container-id-34 div.sk-dashed-wrapped {border: 1px dashed gray;margin: 0 0.4em 0.5em 0.4em;box-sizing: border-box;padding-bottom: 0.4em;background-color: white;}#sk-container-id-34 div.sk-label label {font-family: monospace;font-weight: bold;display: inline-block;line-height: 1.2em;}#sk-container-id-34 div.sk-label-container {text-align: center;}#sk-container-id-34 div.sk-container {/* jupyter's `normalize.less` sets `[hidden] { display: none; }` but bootstrap.min.css set `[hidden] { display: none !important; }` so we also need the `!important` here to be able to override the default hidden behavior on the sphinx rendered scikit-learn.org. See: https://github.com/scikit-learn/scikit-learn/issues/21755 */display: inline-block !important;position: relative;}#sk-container-id-34 div.sk-text-repr-fallback {display: none;}</style><div id=\"sk-container-id-34\" class=\"sk-top-container\"><div class=\"sk-text-repr-fallback\"><pre>RandomForestRegressor(random_state=70)</pre><b>In a Jupyter environment, please rerun this cell to show the HTML representation or trust the notebook. <br />On GitHub, the HTML representation is unable to render, please try loading this page with nbviewer.org.</b></div><div class=\"sk-container\" hidden><div class=\"sk-item\"><div class=\"sk-estimator sk-toggleable\"><input class=\"sk-toggleable__control sk-hidden--visually\" id=\"sk-estimator-id-34\" type=\"checkbox\" checked><label for=\"sk-estimator-id-34\" class=\"sk-toggleable__label sk-toggleable__label-arrow\">RandomForestRegressor</label><div class=\"sk-toggleable__content\"><pre>RandomForestRegressor(random_state=70)</pre></div></div></div></div></div>"
      ],
      "text/plain": [
       "RandomForestRegressor(random_state=70)"
      ]
     },
     "execution_count": 524,
     "metadata": {},
     "output_type": "execute_result"
    }
   ],
   "source": [
    "clf.fit(x_train, y_train)"
   ]
  },
  {
   "cell_type": "code",
   "execution_count": 525,
   "id": "f89c726c-243d-4cb4-9343-3db8a90a12e9",
   "metadata": {},
   "outputs": [
    {
     "name": "stdout",
     "output_type": "stream",
     "text": [
      "<class 'pandas.core.frame.DataFrame'>\n",
      "RangeIndex: 399 entries, 0 to 398\n",
      "Data columns (total 10 columns):\n",
      " #   Column         Non-Null Count  Dtype  \n",
      "---  ------         --------------  -----  \n",
      " 0   year           399 non-null    int64  \n",
      " 1   month          399 non-null    int64  \n",
      " 2   day            399 non-null    int64  \n",
      " 3   tempavg        399 non-null    int64  \n",
      " 4   DPavg          399 non-null    int64  \n",
      " 5   humidity avg   399 non-null    int64  \n",
      " 6   SLPavg         399 non-null    int64  \n",
      " 7   visibilityavg  399 non-null    int64  \n",
      " 8   windavg        399 non-null    int64  \n",
      " 9   Rainfall       399 non-null    float64\n",
      "dtypes: float64(1), int64(9)\n",
      "memory usage: 31.3 KB\n"
     ]
    }
   ],
   "source": [
    "df.info()"
   ]
  },
  {
   "cell_type": "code",
   "execution_count": 526,
   "id": "fd885383-f5c6-4d40-bd7b-7b77297bdacb",
   "metadata": {},
   "outputs": [],
   "source": [
    "test = np.array([1, 1, 1, 2, 3, 0, 1, 1, 1, 1, ])\n"
   ]
  },
  {
   "cell_type": "code",
   "execution_count": 527,
   "id": "071f32f0-687e-47a2-9306-bd3b10c9ec9d",
   "metadata": {},
   "outputs": [
    {
     "data": {
      "text/html": [
       "<div>\n",
       "<style scoped>\n",
       "    .dataframe tbody tr th:only-of-type {\n",
       "        vertical-align: middle;\n",
       "    }\n",
       "\n",
       "    .dataframe tbody tr th {\n",
       "        vertical-align: top;\n",
       "    }\n",
       "\n",
       "    .dataframe thead th {\n",
       "        text-align: right;\n",
       "    }\n",
       "</style>\n",
       "<table border=\"1\" class=\"dataframe\">\n",
       "  <thead>\n",
       "    <tr style=\"text-align: right;\">\n",
       "      <th></th>\n",
       "      <th>year</th>\n",
       "      <th>month</th>\n",
       "      <th>day</th>\n",
       "      <th>tempavg</th>\n",
       "      <th>DPavg</th>\n",
       "      <th>humidity avg</th>\n",
       "      <th>SLPavg</th>\n",
       "      <th>visibilityavg</th>\n",
       "      <th>windavg</th>\n",
       "    </tr>\n",
       "  </thead>\n",
       "  <tbody>\n",
       "    <tr>\n",
       "      <th>394</th>\n",
       "      <td>2012</td>\n",
       "      <td>8</td>\n",
       "      <td>12</td>\n",
       "      <td>26</td>\n",
       "      <td>24</td>\n",
       "      <td>92</td>\n",
       "      <td>1003</td>\n",
       "      <td>3</td>\n",
       "      <td>11</td>\n",
       "    </tr>\n",
       "    <tr>\n",
       "      <th>310</th>\n",
       "      <td>2012</td>\n",
       "      <td>5</td>\n",
       "      <td>20</td>\n",
       "      <td>30</td>\n",
       "      <td>24</td>\n",
       "      <td>71</td>\n",
       "      <td>1004</td>\n",
       "      <td>5</td>\n",
       "      <td>6</td>\n",
       "    </tr>\n",
       "    <tr>\n",
       "      <th>100</th>\n",
       "      <td>2011</td>\n",
       "      <td>5</td>\n",
       "      <td>26</td>\n",
       "      <td>28</td>\n",
       "      <td>25</td>\n",
       "      <td>81</td>\n",
       "      <td>1004</td>\n",
       "      <td>5</td>\n",
       "      <td>5</td>\n",
       "    </tr>\n",
       "    <tr>\n",
       "      <th>238</th>\n",
       "      <td>2012</td>\n",
       "      <td>3</td>\n",
       "      <td>9</td>\n",
       "      <td>27</td>\n",
       "      <td>22</td>\n",
       "      <td>77</td>\n",
       "      <td>1006</td>\n",
       "      <td>5</td>\n",
       "      <td>6</td>\n",
       "    </tr>\n",
       "    <tr>\n",
       "      <th>251</th>\n",
       "      <td>2012</td>\n",
       "      <td>3</td>\n",
       "      <td>22</td>\n",
       "      <td>28</td>\n",
       "      <td>24</td>\n",
       "      <td>78</td>\n",
       "      <td>1008</td>\n",
       "      <td>5</td>\n",
       "      <td>10</td>\n",
       "    </tr>\n",
       "  </tbody>\n",
       "</table>\n",
       "</div>"
      ],
      "text/plain": [
       "     year  month  day  tempavg  DPavg  humidity avg  SLPavg  visibilityavg  \\\n",
       "394  2012      8   12       26     24            92    1003              3   \n",
       "310  2012      5   20       30     24            71    1004              5   \n",
       "100  2011      5   26       28     25            81    1004              5   \n",
       "238  2012      3    9       27     22            77    1006              5   \n",
       "251  2012      3   22       28     24            78    1008              5   \n",
       "\n",
       "     windavg  \n",
       "394       11  \n",
       "310        6  \n",
       "100        5  \n",
       "238        6  \n",
       "251       10  "
      ]
     },
     "execution_count": 527,
     "metadata": {},
     "output_type": "execute_result"
    }
   ],
   "source": [
    "x_test.head()"
   ]
  },
  {
   "cell_type": "code",
   "execution_count": 528,
   "id": "9310fd09-7ee9-4393-bdc9-a02e8059030f",
   "metadata": {},
   "outputs": [],
   "source": [
    "y_pred = clf.predict(x_test)"
   ]
  },
  {
   "cell_type": "code",
   "execution_count": 529,
   "id": "fd02cfd1-57de-45bf-956c-c2dfc70a45a9",
   "metadata": {},
   "outputs": [
    {
     "data": {
      "text/plain": [
       "array([ 8.6434,  0.6934,  0.5333,  0.    ,  0.3228,  0.3124,  2.9409,\n",
       "       18.988 ,  0.    ,  1.001 ,  9.6045,  0.    ,  2.0899,  0.    ,\n",
       "        2.1257,  3.0861,  0.597 ,  5.2961,  0.    ,  0.0408,  0.6324,\n",
       "        0.0306,  0.    ,  0.    ,  6.3572,  0.    ,  0.2108, 11.3408,\n",
       "        0.0305,  0.5637,  0.    ,  0.1194,  0.    ,  0.    ,  0.    ,\n",
       "        0.3914,  0.4902,  0.    ,  0.5412,  0.    ,  0.5995,  0.    ,\n",
       "        0.406 ,  0.    ,  0.371 ,  2.197 ,  0.2385,  0.    ,  1.0058,\n",
       "        0.2388,  0.8235,  0.    ,  0.    ,  1.2191,  0.    ,  2.761 ,\n",
       "        0.    ,  2.7002,  7.239 ,  1.8566,  1.3896,  0.325 ,  4.3758,\n",
       "        4.2017,  0.0305,  5.0631,  0.6401,  0.    ,  0.    ,  2.7208,\n",
       "        1.438 ,  9.1851,  4.8137,  0.    ,  0.    ,  0.0712,  0.    ,\n",
       "        1.1762,  0.7639,  0.2388,  0.    ,  2.1722,  0.    ,  0.1702,\n",
       "        0.    ,  0.404 ,  1.2039,  0.    ,  2.5552, 14.4129,  1.613 ,\n",
       "        5.7255,  2.1617,  1.5084,  0.    ,  0.    ,  1.7426,  0.    ,\n",
       "        6.1552,  1.3337])"
      ]
     },
     "execution_count": 529,
     "metadata": {},
     "output_type": "execute_result"
    }
   ],
   "source": [
    "y_pred"
   ]
  },
  {
   "cell_type": "code",
   "execution_count": 530,
   "id": "aa2814e0-224e-447d-82b1-1243c9411c71",
   "metadata": {},
   "outputs": [
    {
     "name": "stdout",
     "output_type": "stream",
     "text": [
      "     year  month  day  tempavg  DPavg  humidity avg  SLPavg  visibilityavg  \\\n",
      "394  2012      8   12       26     24            92    1003              3   \n",
      "310  2012      5   20       30     24            71    1004              5   \n",
      "100  2011      5   26       28     25            81    1004              5   \n",
      "238  2012      3    9       27     22            77    1006              5   \n",
      "251  2012      3   22       28     24            78    1008              5   \n",
      "\n",
      "     windavg  \n",
      "394       11  \n",
      "310        6  \n",
      "100        5  \n",
      "238        6  \n",
      "251       10  \n"
     ]
    },
    {
     "data": {
      "text/plain": [
       "array([ 8.6434,  0.6934,  0.5333,  0.    ,  0.3228,  0.3124,  2.9409,\n",
       "       18.988 ,  0.    ,  1.001 ,  9.6045,  0.    ,  2.0899,  0.    ,\n",
       "        2.1257,  3.0861,  0.597 ,  5.2961,  0.    ,  0.0408,  0.6324,\n",
       "        0.0306,  0.    ,  0.    ,  6.3572,  0.    ,  0.2108, 11.3408,\n",
       "        0.0305,  0.5637,  0.    ,  0.1194,  0.    ,  0.    ,  0.    ,\n",
       "        0.3914,  0.4902,  0.    ,  0.5412,  0.    ,  0.5995,  0.    ,\n",
       "        0.406 ,  0.    ,  0.371 ,  2.197 ,  0.2385,  0.    ,  1.0058,\n",
       "        0.2388,  0.8235,  0.    ,  0.    ,  1.2191,  0.    ,  2.761 ,\n",
       "        0.    ,  2.7002,  7.239 ,  1.8566,  1.3896,  0.325 ,  4.3758,\n",
       "        4.2017,  0.0305,  5.0631,  0.6401,  0.    ,  0.    ,  2.7208,\n",
       "        1.438 ,  9.1851,  4.8137,  0.    ,  0.    ,  0.0712,  0.    ,\n",
       "        1.1762,  0.7639,  0.2388,  0.    ,  2.1722,  0.    ,  0.1702,\n",
       "        0.    ,  0.404 ,  1.2039,  0.    ,  2.5552, 14.4129,  1.613 ,\n",
       "        5.7255,  2.1617,  1.5084,  0.    ,  0.    ,  1.7426,  0.    ,\n",
       "        6.1552,  1.3337])"
      ]
     },
     "execution_count": 530,
     "metadata": {},
     "output_type": "execute_result"
    }
   ],
   "source": [
    "print(x_test.head())\n",
    "y_pred"
   ]
  },
  {
   "cell_type": "code",
   "execution_count": 531,
   "id": "8d46fa6f-2484-4835-aa2b-7bf0ea70e095",
   "metadata": {},
   "outputs": [
    {
     "name": "stdout",
     "output_type": "stream",
     "text": [
      "394    3.05\n",
      "310    0.00\n",
      "100    0.00\n",
      "238    0.00\n",
      "251    0.00\n",
      "       ... \n",
      "56     0.00\n",
      "234    0.00\n",
      "188    0.00\n",
      "272    0.00\n",
      "254    0.00\n",
      "Name: Rainfall, Length: 100, dtype: float64\n",
      "[ 8.6434  0.6934  0.5333  0.      0.3228  0.3124  2.9409 18.988   0.\n",
      "  1.001   9.6045  0.      2.0899  0.      2.1257  3.0861  0.597   5.2961\n",
      "  0.      0.0408  0.6324  0.0306  0.      0.      6.3572  0.      0.2108\n",
      " 11.3408  0.0305  0.5637  0.      0.1194  0.      0.      0.      0.3914\n",
      "  0.4902  0.      0.5412  0.      0.5995  0.      0.406   0.      0.371\n",
      "  2.197   0.2385  0.      1.0058  0.2388  0.8235  0.      0.      1.2191\n",
      "  0.      2.761   0.      2.7002  7.239   1.8566  1.3896  0.325   4.3758\n",
      "  4.2017  0.0305  5.0631  0.6401  0.      0.      2.7208  1.438   9.1851\n",
      "  4.8137  0.      0.      0.0712  0.      1.1762  0.7639  0.2388  0.\n",
      "  2.1722  0.      0.1702  0.      0.404   1.2039  0.      2.5552 14.4129\n",
      "  1.613   5.7255  2.1617  1.5084  0.      0.      1.7426  0.      6.1552\n",
      "  1.3337]\n"
     ]
    }
   ],
   "source": [
    "print(y_test)\n",
    "print(y_pred)"
   ]
  },
  {
   "cell_type": "code",
   "execution_count": 532,
   "id": "758d8ec9-391b-4a07-8aa9-0f4c35c2427e",
   "metadata": {},
   "outputs": [
    {
     "data": {
      "text/plain": [
       "0.35287150721112537"
      ]
     },
     "execution_count": 532,
     "metadata": {},
     "output_type": "execute_result"
    }
   ],
   "source": [
    "clf.score(x_test, y_test)"
   ]
  },
  {
   "cell_type": "code",
   "execution_count": 533,
   "id": "d843a680-f15d-4ecf-aa55-e7c4f0b46eaa",
   "metadata": {},
   "outputs": [
    {
     "name": "stdout",
     "output_type": "stream",
     "text": [
      "35.28715072111254 %\n"
     ]
    }
   ],
   "source": [
    "print(f\"{clf.score(x_test, y_test)* 100} %\")"
   ]
  },
  {
   "cell_type": "markdown",
   "id": "2b2c9771-c871-48e7-bc30-d42f1e15bcd0",
   "metadata": {},
   "source": [
    "# expermentation"
   ]
  },
  {
   "cell_type": "code",
   "execution_count": 534,
   "id": "c28bbfc0-8407-4085-83a2-0efbea098044",
   "metadata": {},
   "outputs": [
    {
     "data": {
      "text/plain": [
       "{'bootstrap': True,\n",
       " 'ccp_alpha': 0.0,\n",
       " 'criterion': 'squared_error',\n",
       " 'max_depth': None,\n",
       " 'max_features': 1.0,\n",
       " 'max_leaf_nodes': None,\n",
       " 'max_samples': None,\n",
       " 'min_impurity_decrease': 0.0,\n",
       " 'min_samples_leaf': 1,\n",
       " 'min_samples_split': 2,\n",
       " 'min_weight_fraction_leaf': 0.0,\n",
       " 'n_estimators': 100,\n",
       " 'n_jobs': None,\n",
       " 'oob_score': False,\n",
       " 'random_state': 70,\n",
       " 'verbose': 0,\n",
       " 'warm_start': False}"
      ]
     },
     "execution_count": 534,
     "metadata": {},
     "output_type": "execute_result"
    }
   ],
   "source": [
    "\n",
    "clf.get_params()"
   ]
  },
  {
   "cell_type": "code",
   "execution_count": 535,
   "id": "504caad2-437a-4d48-ae27-f96dae5ec2c0",
   "metadata": {},
   "outputs": [
    {
     "name": "stdout",
     "output_type": "stream",
     "text": [
      "values of estimators = 100\n",
      "40.19%\n",
      "values of estimators = 110\n",
      "40.85%\n",
      "values of estimators = 120\n",
      "36.13%\n",
      "values of estimators = 130\n",
      "39.04%\n",
      "values of estimators = 140\n",
      "37.07%\n",
      "values of estimators = 150\n",
      "37.84%\n",
      "values of estimators = 160\n",
      "43.60%\n",
      "values of estimators = 170\n",
      "38.81%\n",
      "values of estimators = 180\n",
      "39.68%\n",
      "values of estimators = 190\n",
      "40.08%\n"
     ]
    }
   ],
   "source": [
    "for i in range(100, 200, 10):\n",
    "    print(f\"values of estimators = {i}\")\n",
    "    model = RandomForestRegressor(n_estimators=i)\n",
    "    model.fit(x_train, y_train)\n",
    "    print(f\"{model.score(x_test, y_test) * 100:.2f}%\")\n",
    "    "
   ]
  },
  {
   "cell_type": "code",
   "execution_count": 536,
   "id": "65627610-d155-43f7-bc62-ec2e84bcab2c",
   "metadata": {},
   "outputs": [],
   "source": [
    "np.random.seed(42)\n",
    "clf = RandomForestRegressor(n_estimators = 160).fit(x_train, y_train)"
   ]
  },
  {
   "cell_type": "code",
   "execution_count": 537,
   "id": "50eb9f49-8757-4df2-9b34-07d8c7f42c6c",
   "metadata": {},
   "outputs": [
    {
     "name": "stdout",
     "output_type": "stream",
     "text": [
      "39.80 %\n"
     ]
    }
   ],
   "source": [
    "print(f\"{clf.score(x_test, y_test) * 100:.2f} %\")"
   ]
  },
  {
   "cell_type": "markdown",
   "id": "b9dbc4a3-00be-49f2-a100-828a69747738",
   "metadata": {},
   "source": [
    "# saving the model"
   ]
  },
  {
   "cell_type": "code",
   "execution_count": 553,
   "id": "24ae82ba-316c-4159-b373-f71f3e2b7de4",
   "metadata": {},
   "outputs": [
    {
     "name": "stderr",
     "output_type": "stream",
     "text": [
      "ERROR: Could not find a version that satisfies the requirement pickle (from versions: none)\n",
      "ERROR: No matching distribution found for pickle\n"
     ]
    }
   ],
   "source": [
    "!pip install pickle"
   ]
  },
  {
   "cell_type": "code",
   "execution_count": 554,
   "id": "5d3c74dd-d254-48dc-8e15-6be7a7706445",
   "metadata": {},
   "outputs": [],
   "source": [
    "import pickle"
   ]
  },
  {
   "cell_type": "code",
   "execution_count": 555,
   "id": "076d2e26-22bc-4f6c-bcfb-61242b218e48",
   "metadata": {},
   "outputs": [],
   "source": [
    "pickle.dump(clf, open(\"rainfall_model_1.pkl\", \"wb\"))"
   ]
  },
  {
   "cell_type": "code",
   "execution_count": 556,
   "id": "4523b425-f67d-4d8c-8a4b-b9b858dad03e",
   "metadata": {},
   "outputs": [
    {
     "data": {
      "text/html": [
       "<style>#sk-container-id-35 {color: black;background-color: white;}#sk-container-id-35 pre{padding: 0;}#sk-container-id-35 div.sk-toggleable {background-color: white;}#sk-container-id-35 label.sk-toggleable__label {cursor: pointer;display: block;width: 100%;margin-bottom: 0;padding: 0.3em;box-sizing: border-box;text-align: center;}#sk-container-id-35 label.sk-toggleable__label-arrow:before {content: \"▸\";float: left;margin-right: 0.25em;color: #696969;}#sk-container-id-35 label.sk-toggleable__label-arrow:hover:before {color: black;}#sk-container-id-35 div.sk-estimator:hover label.sk-toggleable__label-arrow:before {color: black;}#sk-container-id-35 div.sk-toggleable__content {max-height: 0;max-width: 0;overflow: hidden;text-align: left;background-color: #f0f8ff;}#sk-container-id-35 div.sk-toggleable__content pre {margin: 0.2em;color: black;border-radius: 0.25em;background-color: #f0f8ff;}#sk-container-id-35 input.sk-toggleable__control:checked~div.sk-toggleable__content {max-height: 200px;max-width: 100%;overflow: auto;}#sk-container-id-35 input.sk-toggleable__control:checked~label.sk-toggleable__label-arrow:before {content: \"▾\";}#sk-container-id-35 div.sk-estimator input.sk-toggleable__control:checked~label.sk-toggleable__label {background-color: #d4ebff;}#sk-container-id-35 div.sk-label input.sk-toggleable__control:checked~label.sk-toggleable__label {background-color: #d4ebff;}#sk-container-id-35 input.sk-hidden--visually {border: 0;clip: rect(1px 1px 1px 1px);clip: rect(1px, 1px, 1px, 1px);height: 1px;margin: -1px;overflow: hidden;padding: 0;position: absolute;width: 1px;}#sk-container-id-35 div.sk-estimator {font-family: monospace;background-color: #f0f8ff;border: 1px dotted black;border-radius: 0.25em;box-sizing: border-box;margin-bottom: 0.5em;}#sk-container-id-35 div.sk-estimator:hover {background-color: #d4ebff;}#sk-container-id-35 div.sk-parallel-item::after {content: \"\";width: 100%;border-bottom: 1px solid gray;flex-grow: 1;}#sk-container-id-35 div.sk-label:hover label.sk-toggleable__label {background-color: #d4ebff;}#sk-container-id-35 div.sk-serial::before {content: \"\";position: absolute;border-left: 1px solid gray;box-sizing: border-box;top: 0;bottom: 0;left: 50%;z-index: 0;}#sk-container-id-35 div.sk-serial {display: flex;flex-direction: column;align-items: center;background-color: white;padding-right: 0.2em;padding-left: 0.2em;position: relative;}#sk-container-id-35 div.sk-item {position: relative;z-index: 1;}#sk-container-id-35 div.sk-parallel {display: flex;align-items: stretch;justify-content: center;background-color: white;position: relative;}#sk-container-id-35 div.sk-item::before, #sk-container-id-35 div.sk-parallel-item::before {content: \"\";position: absolute;border-left: 1px solid gray;box-sizing: border-box;top: 0;bottom: 0;left: 50%;z-index: -1;}#sk-container-id-35 div.sk-parallel-item {display: flex;flex-direction: column;z-index: 1;position: relative;background-color: white;}#sk-container-id-35 div.sk-parallel-item:first-child::after {align-self: flex-end;width: 50%;}#sk-container-id-35 div.sk-parallel-item:last-child::after {align-self: flex-start;width: 50%;}#sk-container-id-35 div.sk-parallel-item:only-child::after {width: 0;}#sk-container-id-35 div.sk-dashed-wrapped {border: 1px dashed gray;margin: 0 0.4em 0.5em 0.4em;box-sizing: border-box;padding-bottom: 0.4em;background-color: white;}#sk-container-id-35 div.sk-label label {font-family: monospace;font-weight: bold;display: inline-block;line-height: 1.2em;}#sk-container-id-35 div.sk-label-container {text-align: center;}#sk-container-id-35 div.sk-container {/* jupyter's `normalize.less` sets `[hidden] { display: none; }` but bootstrap.min.css set `[hidden] { display: none !important; }` so we also need the `!important` here to be able to override the default hidden behavior on the sphinx rendered scikit-learn.org. See: https://github.com/scikit-learn/scikit-learn/issues/21755 */display: inline-block !important;position: relative;}#sk-container-id-35 div.sk-text-repr-fallback {display: none;}</style><div id=\"sk-container-id-35\" class=\"sk-top-container\"><div class=\"sk-text-repr-fallback\"><pre>RandomForestRegressor(n_estimators=160)</pre><b>In a Jupyter environment, please rerun this cell to show the HTML representation or trust the notebook. <br />On GitHub, the HTML representation is unable to render, please try loading this page with nbviewer.org.</b></div><div class=\"sk-container\" hidden><div class=\"sk-item\"><div class=\"sk-estimator sk-toggleable\"><input class=\"sk-toggleable__control sk-hidden--visually\" id=\"sk-estimator-id-35\" type=\"checkbox\" checked><label for=\"sk-estimator-id-35\" class=\"sk-toggleable__label sk-toggleable__label-arrow\">RandomForestRegressor</label><div class=\"sk-toggleable__content\"><pre>RandomForestRegressor(n_estimators=160)</pre></div></div></div></div></div>"
      ],
      "text/plain": [
       "RandomForestRegressor(n_estimators=160)"
      ]
     },
     "execution_count": 556,
     "metadata": {},
     "output_type": "execute_result"
    }
   ],
   "source": [
    "pickle.load(open(\"rainfall_model_1.pkl\", \"rb\"))"
   ]
  },
  {
   "cell_type": "code",
   "execution_count": 557,
   "id": "150d5a85-fd3d-4707-af05-3f36d866333a",
   "metadata": {},
   "outputs": [],
   "source": [
    "loaded_model = pickle.load(open(\"rainfall_model_1.pkl\", \"rb\"))"
   ]
  },
  {
   "cell_type": "code",
   "execution_count": 558,
   "id": "7a3ffdab-b85a-4dfc-83ce-0f7d9d07350a",
   "metadata": {},
   "outputs": [
    {
     "data": {
      "text/plain": [
       "array([10.32625  ,  0.616    ,  1.2873125,  0.201625 ,  0.125625 ,\n",
       "        0.42225  ,  3.1238125, 13.6660625,  0.03175  ,  0.6096875,\n",
       "       13.3588125,  0.       ,  2.1106875,  0.       ,  1.4406875,\n",
       "        2.8290625,  0.       ,  6.197875 ,  0.       ,  0.09375  ,\n",
       "        0.13175  ,  0.100125 ,  0.       ,  0.09525  ,  9.251875 ,\n",
       "        0.       ,  0.       , 15.09975  ,  0.03175  ,  0.4236875,\n",
       "        0.463625 ,  0.081    ,  0.       ,  0.       ,  0.       ,\n",
       "        0.267    ,  0.0571875,  0.       ,  0.1748125,  0.       ,\n",
       "        1.30025  ,  0.       ,  0.487    ,  0.       ,  0.588    ,\n",
       "        1.1540625,  0.2348125,  0.       ,  0.771375 ,  0.44775  ,\n",
       "        0.845125 ,  0.       ,  0.       ,  1.5636875,  0.       ,\n",
       "        1.611375 ,  0.       ,  2.125875 , 10.7580625,  2.189    ,\n",
       "        1.0415625,  0.6920625,  2.6598125,  3.185125 ,  0.0190625,\n",
       "        3.812625 ,  1.925625 ,  0.       ,  0.0571875,  2.62775  ,\n",
       "        1.121    ,  9.501375 ,  7.254625 ,  0.       ,  0.2985   ,\n",
       "        0.082625 ,  0.       ,  0.6605   ,  1.1913125,  0.14925  ,\n",
       "        0.       ,  1.799    ,  0.       ,  0.05075  ,  0.       ,\n",
       "        0.2034375,  0.7874375,  0.       ,  2.855875 , 13.959375 ,\n",
       "        1.1145   ,  7.2568125,  1.8970625,  2.7159375,  0.03175  ,\n",
       "        0.3795   ,  0.9398125,  0.       ,  7.238375 ,  0.7954375])"
      ]
     },
     "execution_count": 558,
     "metadata": {},
     "output_type": "execute_result"
    }
   ],
   "source": [
    "loaded_model.predict(x_test)"
   ]
  },
  {
   "cell_type": "code",
   "execution_count": 559,
   "id": "935f5f7f-605b-4282-9b81-8533b798ac3f",
   "metadata": {},
   "outputs": [
    {
     "data": {
      "text/plain": [
       "0.3980288576926594"
      ]
     },
     "execution_count": 559,
     "metadata": {},
     "output_type": "execute_result"
    }
   ],
   "source": [
    "loaded_model.score(x_test, y_test)"
   ]
  },
  {
   "cell_type": "code",
   "execution_count": null,
   "id": "fa6f647d-fc42-4a62-968a-e1d8504794b9",
   "metadata": {},
   "outputs": [],
   "source": []
  }
 ],
 "metadata": {
  "kernelspec": {
   "display_name": "Python 3 (ipykernel)",
   "language": "python",
   "name": "python3"
  },
  "language_info": {
   "codemirror_mode": {
    "name": "ipython",
    "version": 3
   },
   "file_extension": ".py",
   "mimetype": "text/x-python",
   "name": "python",
   "nbconvert_exporter": "python",
   "pygments_lexer": "ipython3",
   "version": "3.11.7"
  }
 },
 "nbformat": 4,
 "nbformat_minor": 5
}
